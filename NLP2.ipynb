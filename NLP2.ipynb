{
  "nbformat": 4,
  "nbformat_minor": 0,
  "metadata": {
    "colab": {
      "provenance": [],
      "mount_file_id": "1_pL0JueyelaFfJjKI3TtCQ48NJS6J-Pk",
      "authorship_tag": "ABX9TyMz+sWbJxWqhqSRP+8DbhDQ",
      "include_colab_link": true
    },
    "kernelspec": {
      "name": "python3",
      "display_name": "Python 3"
    },
    "language_info": {
      "name": "python"
    }
  },
  "cells": [
    {
      "cell_type": "markdown",
      "metadata": {
        "id": "view-in-github",
        "colab_type": "text"
      },
      "source": [
        "<a href=\"https://colab.research.google.com/github/Chugunovaia/NLP2/blob/main/NLP2.ipynb\" target=\"_parent\"><img src=\"https://colab.research.google.com/assets/colab-badge.svg\" alt=\"Open In Colab\"/></a>"
      ]
    },
    {
      "cell_type": "markdown",
      "source": [
        "Слова \"балетмейстер\" и \"концерт\""
      ],
      "metadata": {
        "id": "L334NrqDikUr"
      }
    },
    {
      "cell_type": "code",
      "execution_count": 8,
      "metadata": {
        "id": "vY1Le3PIRwOL"
      },
      "outputs": [],
      "source": [
        "import gensim\n",
        "file = \"drive/MyDrive/cbow.txt\"\n",
        "word2vec = gensim.models.KeyedVectors.load_word2vec_format(file, binary=False)"
      ]
    },
    {
      "cell_type": "code",
      "source": [
        "pos = [\"выступление_NOUN\", \"опера_NOUN\", \"танцор_NOUN\"]\n",
        "neg = []\n"
      ],
      "metadata": {
        "id": "KZJhm5q-R_ag"
      },
      "execution_count": 12,
      "outputs": []
    },
    {
      "cell_type": "code",
      "source": [
        "dist = word2vec.most_similar(positive=pos, negative = neg)\n",
        "for i in dist:\n",
        "    print(i)"
      ],
      "metadata": {
        "colab": {
          "base_uri": "https://localhost:8080/"
        },
        "id": "QlTFxig2b9Gx",
        "outputId": "89cf6a13-72b0-4cad-b2b7-51de9d847970"
      },
      "execution_count": 13,
      "outputs": [
        {
          "output_type": "stream",
          "name": "stdout",
          "text": [
            "('балет_NOUN', 0.6807720065116882)\n",
            "('концерт_NOUN', 0.6763032674789429)\n",
            "('вокалист_NOUN', 0.6528833508491516)\n",
            "('солистка_NOUN', 0.6524926424026489)\n",
            "('солист_NOUN', 0.643936276435852)\n",
            "('балетмейстер_NOUN', 0.6391706466674805)\n",
            "('дирижер_NOUN', 0.638078510761261)\n",
            "('спектакль_NOUN', 0.6258939504623413)\n",
            "('сольный_ADJ', 0.6233385801315308)\n",
            "('гергиев_PROPN', 0.6191985607147217)\n"
          ]
        }
      ]
    }
  ]
}